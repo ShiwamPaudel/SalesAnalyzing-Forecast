{
 "cells": [
  {
   "cell_type": "code",
   "execution_count": null,
   "id": "e215269e-72b6-404a-b030-93b6a75b8173",
   "metadata": {},
   "outputs": [],
   "source": [
    "import pandas as pd\n",
    "# !pip install scikit-learn\n",
    "# !pip install -U scikit-learn scipy matplotlib\n",
    "from sklearn.model_selection import train_test_split\n",
    "from sklearn.linear_model import LinearRegression\n",
    "from sklearn.metrics import mean_squared_error\n",
    "import matplotlib.pyplot as plt"
   ]
  },
  {
   "cell_type": "code",
   "execution_count": null,
   "id": "8dbcb739-d7d8-4229-afa0-6760857a09f2",
   "metadata": {},
   "outputs": [],
   "source": [
    "sales_data = pd.read_csv('sales_data.csv')"
   ]
  },
  {
   "cell_type": "code",
   "execution_count": null,
   "id": "62faf867-a2b4-4d22-a15a-2f931d1665b4",
   "metadata": {},
   "outputs": [],
   "source": [
    "sales_data['Date'] = pd.to_datetime(sales_data['Date'])"
   ]
  },
  {
   "cell_type": "code",
   "execution_count": null,
   "id": "82166908-6248-480f-a341-ab909acbdb22",
   "metadata": {},
   "outputs": [],
   "source": [
    "sales_data['Month'] = sales_data['Date'].dt.month\n",
    "sales_data['Day'] = sales_data['Date'].dt.day\n",
    "sales_data['Weekday'] = sales_data['Date'].dt.weekday"
   ]
  },
  {
   "cell_type": "code",
   "execution_count": null,
   "id": "c15e15bc-874a-496b-9404-1780f45fcf52",
   "metadata": {},
   "outputs": [],
   "source": [
    "X = sales_data[['Month', 'Day', 'Weekday']]\n",
    "y = sales_data['Sales']\n",
    "X_train, X_test, y_train, y_test = train_test_split(X, y, test_size=0.2, random_state=42)"
   ]
  },
  {
   "cell_type": "code",
   "execution_count": null,
   "id": "df10621c-d54d-46bd-a994-cbc6aeba2c5c",
   "metadata": {},
   "outputs": [],
   "source": [
    "model = LinearRegression()\n",
    "model.fit(X_train, y_train)"
   ]
  },
  {
   "cell_type": "code",
   "execution_count": null,
   "id": "9a45c49a-2494-4d25-9469-acd1ba2fb0b6",
   "metadata": {},
   "outputs": [],
   "source": [
    "y_pred = model.predict(X_test)\n",
    "mse = mean_squared_error(y_test, y_pred)\n",
    "print(f\"Mean Squared Error: {mse}\")"
   ]
  },
  {
   "cell_type": "code",
   "execution_count": null,
   "id": "1a19c978-fd1d-4e06-b33b-0833df0fa282",
   "metadata": {},
   "outputs": [],
   "source": [
    "plt.scatter(y_test, y_pred)\n",
    "plt.xlabel('Actual Sales')\n",
    "plt.ylabel('Predicted Sales')\n",
    "plt.title('Sales Forecasting Model Evaluation')\n",
    "plt.show()"
   ]
  },
  {
   "cell_type": "code",
   "execution_count": null,
   "id": "93642971-41b8-4634-97c1-78825c211c41",
   "metadata": {},
   "outputs": [],
   "source": [
    "# Document the generated report for the particular Month/timeframe.\n",
    "print('© Shiwam Paudel')"
   ]
  }
 ],
 "metadata": {
  "kernelspec": {
   "display_name": "Python 3 (ipykernel)",
   "language": "python",
   "name": "python3"
  },
  "language_info": {
   "codemirror_mode": {
    "name": "ipython",
    "version": 3
   },
   "file_extension": ".py",
   "mimetype": "text/x-python",
   "name": "python",
   "nbconvert_exporter": "python",
   "pygments_lexer": "ipython3",
   "version": "3.12.0"
  }
 },
 "nbformat": 4,
 "nbformat_minor": 5
}
