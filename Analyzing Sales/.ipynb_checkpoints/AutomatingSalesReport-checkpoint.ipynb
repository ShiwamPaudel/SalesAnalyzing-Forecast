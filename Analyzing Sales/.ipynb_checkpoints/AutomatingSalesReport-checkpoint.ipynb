{
 "cells": [
  {
   "cell_type": "code",
   "execution_count": 1,
   "id": "5695ff09-3370-4e60-8cee-3b30c9584cfa",
   "metadata": {},
   "outputs": [],
   "source": [
    "import pandas as pd\n",
    "from openpyxl import Workbook"
   ]
  },
  {
   "cell_type": "code",
   "execution_count": 2,
   "id": "9f2f5513-dd13-4f0b-a21a-781f7b4fcd50",
   "metadata": {},
   "outputs": [
    {
     "name": "stdout",
     "output_type": "stream",
     "text": [
      "Index(['Date ', 'Revenue', 'Product ID', 'Quantity Sold'], dtype='object')\n"
     ]
    }
   ],
   "source": [
    "sales_data = pd.read_csv('sales_data.csv')\n",
    "print(sales_data.columns)"
   ]
  },
  {
   "cell_type": "code",
   "execution_count": 3,
   "id": "7ff5d4f0-9278-44b5-8faa-18c8febdce42",
   "metadata": {},
   "outputs": [],
   "source": [
    "sales_data['Date'] = pd.to_datetime(sales_data['Date '])"
   ]
  },
  {
   "cell_type": "code",
   "execution_count": 4,
   "id": "6d569a8e-a9fd-42b7-a3d0-e187263c1d9b",
   "metadata": {},
   "outputs": [],
   "source": [
    "monthly_sales = sales_data.groupby(sales_data['Date'].dt.to_period('M'))['Revenue'].sum()"
   ]
  },
  {
   "cell_type": "code",
   "execution_count": 5,
   "id": "ef00c814-43df-4cb0-ba96-87b8f57046bf",
   "metadata": {},
   "outputs": [],
   "source": [
    "wb = Workbook()\n",
    "ws = wb.active\n",
    "ws.title = 'Monthly Sales'"
   ]
  },
  {
   "cell_type": "code",
   "execution_count": 6,
   "id": "8f959b41-b0d0-47b8-ab6b-55e531983f95",
   "metadata": {},
   "outputs": [],
   "source": [
    "ws['A1'] = 'Month'\n",
    "ws['B1'] = 'Total Sales'"
   ]
  },
  {
   "cell_type": "code",
   "execution_count": 7,
   "id": "9d63df9d-5372-4f77-94b4-55902cd1ba4f",
   "metadata": {},
   "outputs": [],
   "source": [
    "for i, (month, sales) in enumerate(monthly_sales.items(), start=2):\n",
    "    ws[f'A{i}'] = str(month)\n",
    "    ws[f'B{i}'] = sales"
   ]
  },
  {
   "cell_type": "code",
   "execution_count": 8,
   "id": "1ad6b512-5f3f-449e-9325-cd0b8952e56c",
   "metadata": {},
   "outputs": [],
   "source": [
    "wb.save('monthly_sales_report.xlsx')"
   ]
  },
  {
   "cell_type": "code",
   "execution_count": 14,
   "id": "38c65ede-7c6c-430a-a701-3fd3fec795ff",
   "metadata": {},
   "outputs": [
    {
     "name": "stdout",
     "output_type": "stream",
     "text": [
      "© Shiwam Paudel\n"
     ]
    }
   ],
   "source": [
    "# Document the Report for Future Reference.\n",
    "print('© Shiwam Paudel')"
   ]
  }
 ],
 "metadata": {
  "kernelspec": {
   "display_name": "Python 3 (ipykernel)",
   "language": "python",
   "name": "python3"
  },
  "language_info": {
   "codemirror_mode": {
    "name": "ipython",
    "version": 3
   },
   "file_extension": ".py",
   "mimetype": "text/x-python",
   "name": "python",
   "nbconvert_exporter": "python",
   "pygments_lexer": "ipython3",
   "version": "3.12.0"
  }
 },
 "nbformat": 4,
 "nbformat_minor": 5
}
